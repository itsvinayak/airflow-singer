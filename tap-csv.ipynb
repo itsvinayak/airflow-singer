{
 "metadata": {
  "language_info": {
   "codemirror_mode": {
    "name": "ipython",
    "version": 3
   },
   "file_extension": ".py",
   "mimetype": "text/x-python",
   "name": "python",
   "nbconvert_exporter": "python",
   "pygments_lexer": "ipython3",
   "version": "3.8.3"
  },
  "orig_nbformat": 2,
  "kernelspec": {
   "name": "python383jvsc74a57bd0edef1e8c0038f761101afe1e8759500cc9d4810fa7e978f3769c3cbc4f0c76e8",
   "display_name": "Python 3.8.3 64-bit ('target-postgres': virtualenvwrapper)"
  },
  "metadata": {
   "interpreter": {
    "hash": "edef1e8c0038f761101afe1e8759500cc9d4810fa7e978f3769c3cbc4f0c76e8"
   }
  }
 },
 "nbformat": 4,
 "nbformat_minor": 2,
 "cells": [
  {
   "cell_type": "code",
   "execution_count": 1,
   "metadata": {},
   "outputs": [],
   "source": [
    "#code to automatically mp the data type of the columns"
   ]
  },
  {
   "cell_type": "code",
   "execution_count": null,
   "metadata": {},
   "outputs": [],
   "source": [
    "import json\n",
    "import singer\n",
    "import urllib.request\n",
    "from datetime import datetime, timezone\n",
    "import pandas as pd\n",
    "from datetime import date, timedelta\n",
    "import os\n",
    "current_date = date.today().isoformat()  \n",
    "today = date.today()\n",
    "SINGER_DATA = '/root/airflow/singer_data/'\n",
    "directory=f\"{SINGER_DATA}Data-\"+current_date"
   ]
  },
  {
   "cell_type": "code",
   "execution_count": null,
   "metadata": {},
   "outputs": [],
   "source": [
    "# Opening JSON file\n",
    "with open('/root/airflow/singer_data/schemas/usercreditaccount.json') as json_file:\n",
    "    data = json.load(json_file)\n",
    "\n",
    "csv_file_list=os.listdir(directory)\n",
    "last_file=sorted(csv_file_list)[-1]\n",
    "df=pd.read_csv(os.path.join(directory,last_file))\n",
    "print(df)\n",
    "singer.write_schema('user_acc', data, 'creditid')\n"
   ]
  },
  {
   "cell_type": "code",
   "execution_count": null,
   "metadata": {},
   "outputs": [],
   "source": [
    "for index,row in df.iterrows():\n",
    "    print(row)\n",
    "    print(\"======\")"
   ]
  },
  {
   "cell_type": "code",
   "execution_count": null,
   "metadata": {},
   "outputs": [],
   "source": [
    "for index,row in df.iterrows():\n",
    "    singer.write_records('user_acc', [{'creditid':row['creditid'],'userid':row['userid'],'totalcreditscore':row['totalcreditscore'],'creditamount':row['creditamount']}])"
   ]
  },
  {
   "cell_type": "code",
   "execution_count": null,
   "metadata": {},
   "outputs": [],
   "source": [
    "for index,row in df.iterrows():\n",
    "    singer.write_records('user_acc', [{'creditid':int(row['creditid']),'userid':int(row['userid']),'totalcreditscore':int(row['totalcreditscore'])}])\n"
   ]
  },
  {
   "cell_type": "code",
   "execution_count": null,
   "metadata": {},
   "outputs": [],
   "source": [
    "#generate mapping for sql and python datatypes\n"
   ]
  }
 ]
}